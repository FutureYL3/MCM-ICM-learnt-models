{
 "cells": [
  {
   "cell_type": "code",
   "execution_count": 3,
   "id": "initial_id",
   "metadata": {
    "collapsed": true,
    "ExecuteTime": {
     "end_time": "2024-01-09T13:46:35.876109400Z",
     "start_time": "2024-01-09T13:45:55.723878Z"
    }
   },
   "outputs": [
    {
     "name": "stdout",
     "output_type": "stream",
     "text": [
      "3.1418596\n"
     ]
    }
   ],
   "source": [
    "import numpy as np\n",
    "\n",
    "inCount = 0\n",
    "total = 0\n",
    "\n",
    "for total in range(0, 10000000):\n",
    "    xAxis = np.random.uniform(low = -1, high = 1)\n",
    "    yAxis = np.random.uniform(low = -1, high = 1)\n",
    "    total += 1\n",
    "    if xAxis * xAxis + yAxis * yAxis <= 1:\n",
    "        inCount += 1\n",
    "\n",
    "print(inCount / total * 4) "
   ]
  },
  {
   "cell_type": "code",
   "outputs": [],
   "source": [],
   "metadata": {
    "collapsed": false
   },
   "id": "5ff664e0a622402"
  }
 ],
 "metadata": {
  "kernelspec": {
   "display_name": "Python 3",
   "language": "python",
   "name": "python3"
  },
  "language_info": {
   "codemirror_mode": {
    "name": "ipython",
    "version": 2
   },
   "file_extension": ".py",
   "mimetype": "text/x-python",
   "name": "python",
   "nbconvert_exporter": "python",
   "pygments_lexer": "ipython2",
   "version": "2.7.6"
  }
 },
 "nbformat": 4,
 "nbformat_minor": 5
}
