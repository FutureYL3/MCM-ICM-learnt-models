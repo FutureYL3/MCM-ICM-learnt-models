{
 "cells": [
  {
   "cell_type": "code",
   "execution_count": 35,
   "id": "initial_id",
   "metadata": {
    "collapsed": true,
    "ExecuteTime": {
     "end_time": "2024-01-18T10:07:36.526807200Z",
     "start_time": "2024-01-18T10:07:36.445206200Z"
    }
   },
   "outputs": [
    {
     "name": "stdout",
     "output_type": "stream",
     "text": [
      "y: [[ 71.1       ]\n",
      " [143.50574241]\n",
      " [215.74197897]\n",
      " [287.80910747]\n",
      " [359.7075238 ]\n",
      " [431.43762292]\n",
      " [502.99979888]\n",
      " [574.39444478]]\n",
      "下一年的道路噪声平均声级数据为: [71.3946459]\n",
      "对于数据var:\n",
      "第 1 个数据达到较高要求\n",
      "第 2 个数据达到较高要求\n",
      "第 3 个数据达到较高要求\n",
      "第 4 个数据达到较高要求\n",
      "第 5 个数据达到较高要求\n",
      "第 6 个数据达到较高要求\n",
      "第 7 个数据达到较高要求\n",
      "对于数据rho:\n",
      "第 1 个数据达到较高要求\n",
      "第 2 个数据达到较高要求\n",
      "第 3 个数据达到较高要求\n",
      "第 4 个数据达到较高要求\n",
      "第 5 个数据达到较高要求\n",
      "第 6 个数据达到较高要求\n"
     ]
    },
    {
     "data": {
      "text/plain": "<Figure size 640x480 with 1 Axes>",
      "image/png": "[encoded data removed]"
     },
     "metadata": {},
     "output_type": "display_data"
    }
   ],
   "source": [
    "import numpy as np\n",
    "from scipy.integrate import odeint\n",
    "from matplotlib import pyplot as plt\n",
    "\n",
    "data = np.array([71.1,72.4,72.4,72.1,71.4,72.0,71.6])\n",
    "n = len(data)\n",
    "# 原始数据的级比检验\n",
    "lmda = []\n",
    "for i in range(1, n):\n",
    "    lmda.append(data[i-1] / data[i])\n",
    "    \n",
    "left =  np.exp(-2 / (n+1))\n",
    "right = np.exp(2/(n+2))\n",
    "for i in range(len(lmda)):\n",
    "    if lmda[i] <= left or lmda[i] >= right:\n",
    "        print(\"第\", i+1, \"个lambda未通过级比检验\")\n",
    "\n",
    "# 获得有规律的新序列\n",
    "newData = np.array([sum(data[: i]) for i in range(1,n + 1)])\n",
    "# print(newData)\n",
    "\n",
    "# 建立微分方程\n",
    "def func(x,t,a,u):\n",
    "    return -a*x+u;\n",
    "\n",
    "# 获取修正变量z\n",
    "z = np.array([-0.5*(newData[i] + newData[i+1]) for i in range(n-1)])\n",
    "# print(z)\n",
    "Y = data[1 : n].reshape(-1, 1)\n",
    "B = np.column_stack((z, np.ones(6)))\n",
    "# print(Y)\n",
    "# print(B)\n",
    "\n",
    "U = np.linalg.inv((B.T @ B)) @ B.T @ Y\n",
    "# print(U)\n",
    "\n",
    "# 解一阶线性方程\n",
    "a, u = U[0], U[1]\n",
    "args = (U[0], U[1])\n",
    "t = np.arange(1, 9, 1)\n",
    "y0 = [71.1]\n",
    "y = odeint(func, y0, t, args=args)\n",
    "\n",
    "plt.plot(t, y)\n",
    "print(\"y:\",y)\n",
    "print(\"下一年的道路噪声平均声级数据为:\", y[len(y)-1] - y[len(y)-2])\n",
    "\n",
    "dataDeduce = []\n",
    "for i in range(1, len(y)):\n",
    "    dataDeduce.append(y[i][0] - y[i-1][0])\n",
    "# print(xdeduce)\n",
    "var = [abs(data[i]-dataDeduce[i]) / data[i] for i in range(len(data))]\n",
    "rho = [1 - ((1-0.5*a) / (1+0.5*a)) * lmda[i] for i in range(len(lmda))]\n",
    "\n",
    "print(\"对于数据var:\")\n",
    "for i in range(len(var)):\n",
    "    if var[i] < 0.1:\n",
    "        print(\"第\",i+1,\"个数据达到较高要求\")\n",
    "    elif var[i] < 0.2:\n",
    "        print(\"第\",i+1,\"个数据达到一般要求\")\n",
    "    else:\n",
    "        print(\"第\",i+1,\"个数据未达到要求\")\n",
    "    \n",
    "print(\"对于数据rho:\")        \n",
    "for i in range(len(rho)):\n",
    "    if rho[i] < 0.1:\n",
    "        print(\"第\",i+1,\"个数据达到较高要求\")\n",
    "    elif rho[i] < 0.2:\n",
    "        print(\"第\",i+1,\"个数据达到一般要求\")\n",
    "    else:\n",
    "        print(\"第\",i+1,\"个数据未达到要求\")\n"
   ]
  },
  {
   "cell_type": "code",
   "outputs": [],
   "source": [],
   "metadata": {
    "collapsed": false
   },
   "id": "a844d3fb9a83ff16"
  }
 ],
 "metadata": {
  "kernelspec": {
   "display_name": "Python 3",
   "language": "python",
   "name": "python3"
  },
  "language_info": {
   "codemirror_mode": {
    "name": "ipython",
    "version": 2
   },
   "file_extension": ".py",
   "mimetype": "text/x-python",
   "name": "python",
   "nbconvert_exporter": "python",
   "pygments_lexer": "ipython2",
   "version": "2.7.6"
  }
 },
 "nbformat": 4,
 "nbformat_minor": 5
}
