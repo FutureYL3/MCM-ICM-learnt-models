{
 "cells": [
  {
   "cell_type": "code",
   "execution_count": 3,
   "id": "initial_id",
   "metadata": {
    "collapsed": true,
    "ExecuteTime": {
     "end_time": "2024-01-16T10:56:30.045818500Z",
     "start_time": "2024-01-16T10:56:30.003558800Z"
    }
   },
   "outputs": [
    {
     "name": "stdout",
     "output_type": "stream",
     "text": [
      "方案——准则矩阵： [[0.27 0.37 0.31 0.17]\n",
      " [0.14 0.22 0.09 0.02]\n",
      " [0.13 0.09 0.12 0.51]\n",
      " [0.13 0.15 0.31 0.19]\n",
      " [0.33 0.17 0.16 0.1 ]]\n",
      "通过了一致性检验\n",
      "权重矩阵： [0.48885991 0.18192996 0.2318927  0.09731744]\n",
      "最终得分： {'老番茄': 0.2877369597615499, '何同学': 0.13128166915052158, '木鱼水心': 0.15738450074515647, '凉风': 0.18121833084947836, '罗翔': 0.23908643815201192}\n"
     ]
    }
   ],
   "source": [
    "import numpy as np\n",
    "\n",
    "# 归一化后的方案——准则矩阵\n",
    "A = np.mat('0.27 0.37 0.31 0.17; 0.14 0.22 0.09 0.02; 0.13 0.09 0.12 0.51; 0.13 0.15 0.31 0.19; 0.33 0.17 0.16 0.10')\n",
    "print(\"方案——准则矩阵：\", A)\n",
    "\n",
    "# 平均随机一致性指标\n",
    "RI = [0,0,0.52,0.89,1.12,1.26,1.36,1.41,1.46,1.49]\n",
    "# 准则——判断矩阵\n",
    "B = np.array([[1, 2, 3, 5], [1/2, 1, 1/2, 2], [1/3, 2, 1, 2], [1/5, 1/2, 1/2, 1]])\n",
    "# print(B)\n",
    "n = 4\n",
    "# 特征值，特征向量\n",
    "value, vector = np.linalg.eig(B)\n",
    "# 最大特征值\n",
    "lmd = max(value)\n",
    "# 一致性比例\n",
    "CR =  (lmd-n) / (n-1)\n",
    "# 一致性检验\n",
    "if CR < 0.1 :\n",
    "    print(\"通过了一致性检验\")\n",
    "else :\n",
    "    print(\"未通过一致性检验\")\n",
    "    exit(-1)\n",
    "\n",
    "# 按列归一化   \n",
    "sumval = 0\n",
    "val = []\n",
    "for i in range(n):\n",
    "    for j in range(n):\n",
    "        sumval += B[j][i]\n",
    "    val.append(sumval)\n",
    "    sumval = 0\n",
    "    \n",
    "# print(val)\n",
    "deduce1Val = []\n",
    "for i in range(n):\n",
    "    for j in range(n):\n",
    "        deduce1Val.append(B[i][j] / val[j])\n",
    "\n",
    "def chunk_list(lst, chunk_size):\n",
    "    return [lst[i:i + chunk_size] for i in range(0, len(lst), chunk_size)]\n",
    "\n",
    "finalB =  chunk_list(deduce1Val, 4)       \n",
    "# print(finalB)\n",
    "\n",
    "# 权重矩阵\n",
    "weightMat = []\n",
    "for i in range(n):\n",
    "    weightMat.append(sum(finalB[i][0:]) / n)\n",
    "    \n",
    "# print(weightMat)\n",
    "w = np.array(weightMat)\n",
    "print(\"权重矩阵：\", w)\n",
    "\n",
    "# 得分矩阵\n",
    "points = np.dot(A, w)\n",
    "# print(points)\n",
    "name = ['老番茄','何同学','木鱼水心','凉风','罗翔']\n",
    "print(\"最终得分：\", {name[i]:points[0,i] for i in range(5)})"
   ]
  },
  {
   "cell_type": "code",
   "outputs": [],
   "source": [],
   "metadata": {
    "collapsed": false
   },
   "id": "189eb5d9a03e653f"
  }
 ],
 "metadata": {
  "kernelspec": {
   "display_name": "Python 3",
   "language": "python",
   "name": "python3"
  },
  "language_info": {
   "codemirror_mode": {
    "name": "ipython",
    "version": 2
   },
   "file_extension": ".py",
   "mimetype": "text/x-python",
   "name": "python",
   "nbconvert_exporter": "python",
   "pygments_lexer": "ipython2",
   "version": "2.7.6"
  }
 },
 "nbformat": 4,
 "nbformat_minor": 5
}
