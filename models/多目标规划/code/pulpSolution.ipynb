{
 "cells": [
  {
   "cell_type": "code",
   "execution_count": 1,
   "id": "initial_id",
   "metadata": {
    "collapsed": true,
    "ExecuteTime": {
     "end_time": "2024-01-12T13:58:59.932834200Z",
     "start_time": "2024-01-12T13:58:59.847681400Z"
    }
   },
   "outputs": [
    {
     "name": "stdout",
     "output_type": "stream",
     "text": [
      "第一轮后\n",
      "d1 = 0.0\n",
      "d2 = 0.0\n",
      "d3 = 0.0\n",
      "d4 = 10.0\n",
      "d5 = 0.0\n",
      "d6 = 56.0\n",
      "x1 = 0.0\n",
      "x2 = 0.0\n",
      "val = 0.0\n"
     ]
    }
   ],
   "source": [
    "# 序贯算法\n",
    "import pulp as pp\n",
    "\n",
    "# 第一目标\n",
    "pCase1 = pp.LpProblem(\"pcase1\", pp.LpMinimize)\n",
    "\n",
    "# 全局变量设置\n",
    "d1 = pp.LpVariable(\"d1\", lowBound=0,cat=\"integer\")\n",
    "d2 = pp.LpVariable(\"d2\", lowBound=0,cat=\"integer\")\n",
    "d3 = pp.LpVariable(\"d3\", lowBound=0,cat=\"integer\")\n",
    "d4 = pp.LpVariable(\"d4\", lowBound=0,cat=\"integer\")\n",
    "d5 = pp.LpVariable(\"d5\", lowBound=0,cat=\"integer\")\n",
    "d6 = pp.LpVariable(\"d6\", lowBound=0,cat=\"integer\")\n",
    "x1 = pp.LpVariable(\"x1\", lowBound=0,cat=\"integer\")\n",
    "x2 = pp.LpVariable(\"x2\", lowBound=0,cat=\"integer\")\n",
    "\n",
    "# 目标函数设置\n",
    "pCase1 += (d1)\n",
    "# 约束条件设置\n",
    "pCase1 += (2*x1 + x2 <= 11)\n",
    "pCase1 += (x1 - x2 + d2 - d1 == 0)\n",
    "pCase1 += (x1 + 2*x2 + d4 - d3 == 10)\n",
    "pCase1 += (8*x1 + 10*x2 + d6 - d5 == 56)\n",
    "\n",
    "pCase1.solve()\n",
    "val1 = pp.value(pCase1.objective)\n",
    "\n",
    "print(\"第一轮后\")\n",
    "for v in pCase1.variables():\n",
    "    print(v.name, \"=\", v.varValue)  # 输出每个变量的最优值\n",
    "print(\"val =\", val1)  # 输出最优解的目标函数值"
   ]
  },
  {
   "cell_type": "code",
   "outputs": [
    {
     "name": "stdout",
     "output_type": "stream",
     "text": [
      "第二轮后\n",
      "d1 = 0.0\n",
      "d2 = 5.0\n",
      "d3 = 0.0\n",
      "d4 = 0.0\n",
      "d5 = 0.0\n",
      "d6 = 6.0\n",
      "x1 = 0.0\n",
      "x2 = 5.0\n",
      "val = 0.0\n"
     ]
    }
   ],
   "source": [
    "# 第二目标\n",
    "pCase2 = pp.LpProblem(\"pCase2\", pp.LpMinimize)\n",
    "\n",
    "pCase2 += (d3 + d4)\n",
    "pCase2 += (2*x1 + x2 <= 11)\n",
    "pCase2 += (x1 - x2 + d2 - d1 == 0)\n",
    "pCase2 += (x1 + 2*x2 + d4 - d3 == 10)\n",
    "pCase2 += (8*x1 + 10*x2 + d6 - d5 == 56) \n",
    "# 附加第一目标作为约束条件\n",
    "pCase2 += (d1 <= val1)\n",
    "\n",
    "pCase2.solve()\n",
    "val2 = pp.value(pCase2.objective)\n",
    "\n",
    "print(\"第二轮后\")\n",
    "for v in pCase2.variables():\n",
    "    print(v.name, \"=\", v.varValue)  # 输出每个变量的最优值\n",
    "print(\"val =\", val2)  # 输出最优解的目标函数值"
   ],
   "metadata": {
    "collapsed": false,
    "ExecuteTime": {
     "end_time": "2024-01-12T13:58:59.982404100Z",
     "start_time": "2024-01-12T13:58:59.936062400Z"
    }
   },
   "id": "8a1b1dfbd002cad7",
   "execution_count": 2
  },
  {
   "cell_type": "code",
   "outputs": [
    {
     "name": "stdout",
     "output_type": "stream",
     "text": [
      "第三轮后\n",
      "d1 = 0.0\n",
      "d2 = 2.0\n",
      "d3 = 0.0\n",
      "d4 = 0.0\n",
      "d5 = 0.0\n",
      "d6 = 0.0\n",
      "x1 = 2.0\n",
      "x2 = 4.0\n",
      "val = 0.0\n"
     ]
    }
   ],
   "source": [
    "# 第三目标\n",
    "pCase3 = pp.LpProblem(\"pCase3\", pp.LpMinimize)\n",
    "\n",
    "pCase3 += (d3 + d4)\n",
    "pCase3 += (2*x1 + x2 <= 11)\n",
    "pCase3 += (x1 - x2 + d2 - d1 == 0)\n",
    "pCase3 += (x1 + 2*x2 + d4 - d3 == 10)\n",
    "pCase3 += (8*x1 + 10*x2 + d6 - d5 == 56) \n",
    "# 附加第一、二目标作为约束条件\n",
    "pCase3 += (d1 <= val1)\n",
    "pCase3 += (d3 + d4 <= val2)\n",
    "\n",
    "pCase3.solve()\n",
    "val3 = pp.value(pCase3.objective)\n",
    "\n",
    "print(\"第三轮后\")\n",
    "for v in pCase3.variables():\n",
    "    print(v.name, \"=\", v.varValue)  # 输出每个变量的最优值\n",
    "print(\"val =\", val3)  # 输出最优解的目标函数值"
   ],
   "metadata": {
    "collapsed": false,
    "ExecuteTime": {
     "end_time": "2024-01-12T13:59:00.026044100Z",
     "start_time": "2024-01-12T13:58:59.980405200Z"
    }
   },
   "id": "65f516d1d526eae3",
   "execution_count": 3
  },
  {
   "cell_type": "code",
   "outputs": [],
   "source": [],
   "metadata": {
    "collapsed": false,
    "ExecuteTime": {
     "end_time": "2024-01-12T13:59:00.057553600Z",
     "start_time": "2024-01-12T13:59:00.026044100Z"
    }
   },
   "id": "b8258d7b6ec3122c",
   "execution_count": 3
  }
 ],
 "metadata": {
  "kernelspec": {
   "display_name": "Python 3",
   "language": "python",
   "name": "python3"
  },
  "language_info": {
   "codemirror_mode": {
    "name": "ipython",
    "version": 2
   },
   "file_extension": ".py",
   "mimetype": "text/x-python",
   "name": "python",
   "nbconvert_exporter": "python",
   "pygments_lexer": "ipython2",
   "version": "2.7.6"
  }
 },
 "nbformat": 4,
 "nbformat_minor": 5
}
