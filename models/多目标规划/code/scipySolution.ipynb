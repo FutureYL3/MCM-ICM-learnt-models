{
 "cells": [
  {
   "cell_type": "code",
   "outputs": [
    {
     "name": "stdout",
     "output_type": "stream",
     "text": [
      "第一轮后\n",
      "x = [ 0. 11. 12.  0. 54.  0.  0. 11.] fun = 0.0\n",
      "第二轮后\n",
      "x = [0.         0.         0.         0.         4.         0.\n",
      " 3.33333333 3.33333333] fun = 0.0\n",
      "第三轮后\n",
      "x = [0.         0.         0.         0.         4.         0.\n",
      " 3.33333333 3.33333333] fun = 0.0\n"
     ]
    }
   ],
   "source": [
    "# 序贯算法\n",
    "import numpy as np\n",
    "from scipy.optimize import linprog\n",
    "\n",
    "c = np.array([1,0,0,0,0,0,0,0])\n",
    "A = np.array([[0,0,0,0,0,0,2,1]])\n",
    "b = np.array([11])\n",
    "Aeq = np.array([[-1,1,0,0,0,0,1,-1], [0,0,-1,1,0,0,1,2], [0,0,0,0,-1,1,8,10]])\n",
    "beq = np.array([0,10,56])\n",
    "x0,x1,x2,x3,x4,x5,x6,x7 = (0,None),(0,None),(0,None),(0,None),(0,None),(0,None),(0,None),(0,None)\n",
    "bnds = (x0,x1,x2,x3,x4,x5,x6,x7)\n",
    "# 第一个目标\n",
    "res = linprog(c, A, b, Aeq, beq, bounds=bnds,method='highs')\n",
    "print(\"第一轮后\")\n",
    "print(\"x =\", res.x, \"fun =\",res.fun)\n",
    "\n",
    "# 第二个目标，更新c和A，b\n",
    "A = np.concatenate((A, [c]),axis=0)\n",
    "b = np.concatenate((b, np.array([res.fun])),axis=0)\n",
    "c = np.array([0,0,1,1,0,0,0,0])\n",
    "res = linprog(c, A, b, Aeq, beq, bounds=bnds,method='highs')\n",
    "print(\"第二轮后\")\n",
    "print(\"x =\", res.x, \"fun =\",res.fun)\n",
    "\n",
    "# 第三个目标，更新c和A，b\n",
    "A = np.concatenate((A, [c]),axis=0)\n",
    "b = np.concatenate((b, np.array([res.fun])),axis=0)\n",
    "c = np.array([0,0,0,0,0,1,0,0])\n",
    "res = linprog(c, A, b, Aeq, beq, bounds=bnds,method='highs')\n",
    "print(\"第三轮后\")\n",
    "print(\"x =\", res.x, \"fun =\",res.fun)\n",
    "\n",
    "# print(\"x1 =\",res.x[6])\n",
    "# print(\"x2 =\",res.x[7])"
   ],
   "metadata": {
    "collapsed": false,
    "ExecuteTime": {
     "end_time": "2024-01-12T07:00:22.313880600Z",
     "start_time": "2024-01-12T07:00:22.293791200Z"
    }
   },
   "id": "ee8cb72f3b69b5fa",
   "execution_count": 13
  },
  {
   "cell_type": "code",
   "outputs": [],
   "source": [],
   "metadata": {
    "collapsed": false
   },
   "id": "543535a68728ef0d"
  }
 ],
 "metadata": {
  "kernelspec": {
   "display_name": "Python 3",
   "language": "python",
   "name": "python3"
  },
  "language_info": {
   "codemirror_mode": {
    "name": "ipython",
    "version": 2
   },
   "file_extension": ".py",
   "mimetype": "text/x-python",
   "name": "python",
   "nbconvert_exporter": "python",
   "pygments_lexer": "ipython2",
   "version": "2.7.6"
  }
 },
 "nbformat": 4,
 "nbformat_minor": 5
}
