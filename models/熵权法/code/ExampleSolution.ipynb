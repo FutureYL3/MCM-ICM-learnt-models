{
 "cells": [
  {
   "cell_type": "code",
   "execution_count": 37,
   "id": "initial_id",
   "metadata": {
    "collapsed": true,
    "ExecuteTime": {
     "end_time": "2024-01-16T15:54:51.788177400Z",
     "start_time": "2024-01-16T15:54:51.775155300Z"
    }
   },
   "outputs": [
    {
     "name": "stdout",
     "output_type": "stream",
     "text": [
      "总结果为: {9: 87.22786414041295, 3: 85.12657130934787, 1: 82.8785918223135, 4: 81.95997431622197, 7: 81.63602104506572, 5: 81.56186253550865, 6: 80.4264005272025, 10: 79.68964710095796, 8: 78.07661923690297, 2: 77.81777072282156}\n",
      "即总排名为: [9, 3, 1, 4, 7, 5, 6, 10, 8, 2]\n"
     ]
    }
   ],
   "source": [
    "import numpy as np\n",
    "import math\n",
    "\n",
    "n = 10\n",
    "data = np.mat('93 66 86 88 77 71 90 94;'\n",
    "              '97 99 61 61 75 87 70 70;'\n",
    "              '65 99 94 71 91 86 80 93;'\n",
    "              '97 79 98 61 92 66 88 69;'\n",
    "              '85 92 87 63 67 64 96 98;'\n",
    "              '63 65 91 93 80 80 99 74;'\n",
    "              '71 77 90 88 78 99 82 68;'\n",
    "              '82 97 76 73 86 73 65 70;'\n",
    "              '99 92 86 98 89 83 66 85;'\n",
    "              '99 99 67 61 90 69 70 79')\n",
    "\n",
    "A = np.mat('93 66 86 88 77 71 90 94;'\n",
    "           '97 99 61 61 75 87 70 70;'\n",
    "           '65 99 94 71 91 86 80 93;'\n",
    "           '97 79 98 61 92 66 88 69;'\n",
    "           '85 92 87 63 67 64 96 98;'\n",
    "           '63 65 91 93 80 80 99 74;'\n",
    "           '71 77 90 88 78 99 82 68;'\n",
    "           '82 97 76 73 86 73 65 70;'\n",
    "           '99 92 86 98 89 83 66 85;'\n",
    "           '99 99 67 61 90 69 70 79')\n",
    "\n",
    "A = A.astype(float)  # 将矩阵元素类型转换为 float\n",
    "# print(\"A:\", A)\n",
    "for i in range(8):\n",
    "    A[: , i] -= np.min(A[: , i])\n",
    "    # print(A[: , i])\n",
    "    A[: , i] /= np.max(A[: , i]) - np.min(A[: , i])\n",
    "    # print(A[: , i])\n",
    "    \n",
    "A[A==0] = 0.000001\n",
    "# print(A)\n",
    "\n",
    "for i in range(8):\n",
    "    A[: , i] /= np.sum(A[: , i])\n",
    "    \n",
    "# print(A)\n",
    "\n",
    "e = []\n",
    "for i in range(8):\n",
    "    temp = np.log(A[: , i]).T\n",
    "    # temp = temp.T\n",
    "    e.append(-(1/math.log(n))*np.sum(np.dot(temp,A[: , i])))\n",
    "    \n",
    "# print(e)\n",
    "\n",
    "w = []\n",
    "for i in range(8):\n",
    "    w.append(e[i]/sum(e))\n",
    "    \n",
    "# print(w)\n",
    "points = []\n",
    "for i in range(10):\n",
    "    points.append(sum([data[i,j]*w[j] for j in range(8)]))\n",
    "   \n",
    "# print(points)\n",
    "\n",
    "res = {i + 1:points[i] for i in range(len(points))}\n",
    "res = dict(sorted(res.items(),key=lambda x:x[1], reverse=True))\n",
    "resList = list(res.keys())\n",
    "print(\"总结果为:\", res)\n",
    "print(\"即总排名为:\", resList)"
   ]
  },
  {
   "cell_type": "code",
   "outputs": [],
   "source": [],
   "metadata": {
    "collapsed": false
   },
   "id": "89d837efa394e6cd"
  }
 ],
 "metadata": {
  "kernelspec": {
   "display_name": "Python 3",
   "language": "python",
   "name": "python3"
  },
  "language_info": {
   "codemirror_mode": {
    "name": "ipython",
    "version": 2
   },
   "file_extension": ".py",
   "mimetype": "text/x-python",
   "name": "python",
   "nbconvert_exporter": "python",
   "pygments_lexer": "ipython2",
   "version": "2.7.6"
  }
 },
 "nbformat": 4,
 "nbformat_minor": 5
}
