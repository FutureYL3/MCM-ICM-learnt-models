{
 "cells": [
  {
   "cell_type": "code",
   "execution_count": 24,
   "id": "initial_id",
   "metadata": {
    "collapsed": true,
    "ExecuteTime": {
     "end_time": "2024-01-16T11:41:39.839853Z",
     "start_time": "2024-01-16T11:41:39.828234800Z"
    }
   },
   "outputs": [
    {
     "name": "stdout",
     "output_type": "stream",
     "text": [
      "最终的得分结果: {4: 0.7002782166246625, 3: 0.6255115354408003, 2: 0.578738724731772, 1: 0.525813800160824, 5: 0.3164914795793433}\n",
      "即最终的排序为: [4, 3, 2, 1, 5]\n"
     ]
    }
   ],
   "source": [
    "import numpy as np\n",
    "\n",
    "# 初始方案——指标矩阵\n",
    "Apre = np.array([[0.1,5,5000,4.7],[0.2,6,6000,5.6],[0.4,7,7000,6.7],[0.9,10,10000,2.3],[1.2,2,400,1.8]]) \n",
    "# print(\"A: \", Apre)\n",
    "\n",
    "def func(x):\n",
    "    return np.piecewise(x,[(2 <= x) & (x < 5), (5 <= x) & (x <= 6), (6 <= x) & (x <= 12), (x < 2) | (x > 12)], [lambda x:1-(5 - x)/ 3, lambda x:1, lambda x:1-(x - 6)/ 6, lambda x:0])\n",
    "\n",
    "for i in range(5):\n",
    "    Apre[i, 1] = func(Apre[i, 1])\n",
    "    \n",
    "# print(Apre)\n",
    "\n",
    "# 向量规范化\n",
    "sumval = []\n",
    "for i in range(4):\n",
    "    sumval.append(np.sqrt(sum([x**2 for x in Apre[:,i]])))\n",
    "    \n",
    "for i in range(4):\n",
    "    Apre[: , i] /= sumval[i]\n",
    "    \n",
    "# print(Apre)\n",
    "# 指标加权处理\n",
    "w = np.array([0.2, 0.3, 0.4, 0.1])\n",
    "for i in range(4):\n",
    "    Apre[: , i] *= w[i]\n",
    "    \n",
    "# print(Apre)\n",
    "# 获取正负理想解\n",
    "Cpos = []\n",
    "Cneg = []\n",
    "for i in range(4):\n",
    "    Cpos.append(max(Apre[: , i]))\n",
    "    Cneg.append(min(Apre[: , i]))\n",
    "    \n",
    "temp = Cpos[3]\n",
    "Cpos[3] = Cneg[3]\n",
    "Cneg[3] = temp\n",
    "\n",
    "# print(Cpos)\n",
    "# print(Cneg)\n",
    "\n",
    "distancePos = []\n",
    "distanceNeg = []\n",
    "points = []\n",
    "\n",
    "for i in range(5):\n",
    "    distancePos.append(np.sqrt(sum([(Apre[i, j]-Cpos[j])**2 for j in range(4)])))\n",
    "    distanceNeg.append(np.sqrt(sum([(Apre[i, j]-Cneg[j])**2 for j in range(4)])))\n",
    "    points.append(distanceNeg[i] / (distancePos[i] + distanceNeg[i]))\n",
    "    \n",
    "# print(points)\n",
    "res = {i + 1:points[i] for i in range(len(points))}\n",
    "# print(res)\n",
    "\n",
    "# print(res.items())\n",
    "sortedRes = dict(sorted(res.items(), key=lambda x:x[1], reverse=True))\n",
    "print(\"最终的得分结果:\", sortedRes)\n",
    "resList = list(sortedRes.keys())\n",
    "print(\"即最终的排序为:\", resList)"
   ]
  },
  {
   "cell_type": "code",
   "outputs": [],
   "source": [],
   "metadata": {
    "collapsed": false
   },
   "id": "f6f85a94117dd89d"
  }
 ],
 "metadata": {
  "kernelspec": {
   "display_name": "Python 3",
   "language": "python",
   "name": "python3"
  },
  "language_info": {
   "codemirror_mode": {
    "name": "ipython",
    "version": 2
   },
   "file_extension": ".py",
   "mimetype": "text/x-python",
   "name": "python",
   "nbconvert_exporter": "python",
   "pygments_lexer": "ipython2",
   "version": "2.7.6"
  }
 },
 "nbformat": 4,
 "nbformat_minor": 5
}
