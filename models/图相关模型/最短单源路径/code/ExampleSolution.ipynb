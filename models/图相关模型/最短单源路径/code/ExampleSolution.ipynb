{
 "cells": [
  {
   "cell_type": "code",
   "execution_count": 3,
   "id": "initial_id",
   "metadata": {
    "collapsed": true,
    "ExecuteTime": {
     "end_time": "2024-01-14T13:32:09.543515700Z",
     "start_time": "2024-01-14T13:32:09.509247600Z"
    }
   },
   "outputs": [
    {
     "name": "stdout",
     "output_type": "stream",
     "text": [
      "最短路径为： [1, 3, 6]\n",
      "最短路径下的长度为： 48\n"
     ]
    }
   ],
   "source": [
    "import networkx as nx\n",
    "import pandas as pd\n",
    "import numpy as np\n",
    "\n",
    "matrix = pd.DataFrame([[0, 15, 20, 27, 37, 54],\n",
    "                       [0, 0, 15, 20, 27, 37],\n",
    "                       [0, 0, 0, 16, 21, 28],\n",
    "                       [0, 0, 0, 0, 16, 21],\n",
    "                       [0, 0, 0, 0, 0, 0, 17],\n",
    "                       [0, 0, 0, 0, 0, 0]])\n",
    "\n",
    "G = nx.from_pandas_adjacency(matrix)\n",
    "\n",
    "bestPath_v1_v6 = nx.dijkstra_path(G, source=0, target=5)\n",
    "bestPathLength_v1_v6 = nx.dijkstra_path_length(G, source=0, target=5)\n",
    "\n",
    "for i in range(len(bestPath_v1_v6)) :\n",
    "    bestPath_v1_v6[i] += 1\n",
    "\n",
    "print(\"最短路径为：\", bestPath_v1_v6)\n",
    "print(\"最短路径下的长度为：\", bestPathLength_v1_v6)"
   ]
  },
  {
   "cell_type": "code",
   "outputs": [],
   "source": [],
   "metadata": {
    "collapsed": false
   },
   "id": "992df2f9a8f38a22"
  }
 ],
 "metadata": {
  "kernelspec": {
   "display_name": "Python 3",
   "language": "python",
   "name": "python3"
  },
  "language_info": {
   "codemirror_mode": {
    "name": "ipython",
    "version": 2
   },
   "file_extension": ".py",
   "mimetype": "text/x-python",
   "name": "python",
   "nbconvert_exporter": "python",
   "pygments_lexer": "ipython2",
   "version": "2.7.6"
  }
 },
 "nbformat": 4,
 "nbformat_minor": 5
}
