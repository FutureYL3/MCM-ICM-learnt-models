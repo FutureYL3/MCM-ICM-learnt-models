{
 "cells": [
  {
   "cell_type": "code",
   "execution_count": 5,
   "id": "initial_id",
   "metadata": {
    "collapsed": true,
    "ExecuteTime": {
     "end_time": "2024-01-15T09:36:09.476564800Z",
     "start_time": "2024-01-15T09:36:09.461450900Z"
    }
   },
   "outputs": [
    {
     "name": "stdout",
     "output_type": "stream",
     "text": [
      "[1, 2, 3, 4, 5, 6, 7, 8, 9]\n",
      "[(1, 3), (1, 2), (1, 7), (2, 9), (3, 4), (4, 5), (6, 7), (7, 8)]\n",
      "[(1, 2, {'weight': 2}), (1, 3, {'weight': 1}), (1, 7, {'weight': 2}), (2, 9, {'weight': 1}), (3, 4, {'weight': 1}), (4, 5, {'weight': 1}), (6, 7, {'weight': 2}), (7, 8, {'weight': 3})]\n",
      "13\n"
     ]
    }
   ],
   "source": [
    "import networkx as nx\n",
    "\n",
    "G = nx.Graph()\n",
    "G.add_weighted_edges_from([(1,2,2), (1,3,1),(1,4,3),(1,5,4),(1,6,4),(1,7,2),(1,8,5),(1,9,4),(2,3,4),(2,9,1),(3,4,1),(4,5,1),(5,6,5),(6,7,2),(7,8,3),(8,9,5)])\n",
    "\n",
    "T = nx.minimum_spanning_tree(G)\n",
    "print(T.nodes)\n",
    "print(T.edges)\n",
    "print(sorted(T.edges(data=True)))\n",
    "sum = 0\n",
    "for edge in T.edges(data=True):\n",
    "    sum += edge[2]['weight']\n",
    "    \n",
    "print(sum)\n",
    "\n",
    "# TE = nx.tree.minimum_spanning_edges(G, algorithm='kruskal')\n",
    "# print(list(TE))\n"
   ]
  },
  {
   "cell_type": "code",
   "outputs": [],
   "source": [],
   "metadata": {
    "collapsed": false
   },
   "id": "998f9c899ef40f53"
  }
 ],
 "metadata": {
  "kernelspec": {
   "display_name": "Python 3",
   "language": "python",
   "name": "python3"
  },
  "language_info": {
   "codemirror_mode": {
    "name": "ipython",
    "version": 2
   },
   "file_extension": ".py",
   "mimetype": "text/x-python",
   "name": "python",
   "nbconvert_exporter": "python",
   "pygments_lexer": "ipython2",
   "version": "2.7.6"
  }
 },
 "nbformat": 4,
 "nbformat_minor": 5
}
