{
 "cells": [
  {
   "cell_type": "code",
   "outputs": [
    {
     "name": "stdout",
     "output_type": "stream",
     "text": [
      "           con: None\n",
      " crossover_nit: 0\n",
      "         eqlin:  marginals: None\n",
      "  residual: None\n",
      "           fun: None\n",
      "       ineqlin:  marginals: None\n",
      "  residual: None\n",
      "         lower:  marginals: None\n",
      "  residual: None\n",
      "       message: \"The problem is infeasible. (HiGHS Status 8: model_status is Infeasible; primal_status is b'At lower/fixed bound')\"\n",
      "           nit: 0\n",
      "         slack: None\n",
      "        status: 2\n",
      "       success: False\n",
      "         upper:  marginals: None\n",
      "  residual: None\n",
      "             x: None\n",
      "           con: None\n",
      " crossover_nit: 0\n",
      "         eqlin:  marginals: None\n",
      "  residual: None\n",
      "           fun: None\n",
      "       ineqlin:  marginals: None\n",
      "  residual: None\n",
      "         lower:  marginals: None\n",
      "  residual: None\n",
      "       message: \"The problem is infeasible. (HiGHS Status 8: model_status is Infeasible; primal_status is b'At lower/fixed bound')\"\n",
      "           nit: 0\n",
      "         slack: None\n",
      "        status: 2\n",
      "       success: False\n",
      "         upper:  marginals: None\n",
      "  residual: None\n",
      "             x: None\n",
      "           con: None\n",
      " crossover_nit: 0\n",
      "         eqlin:  marginals: None\n",
      "  residual: None\n",
      "           fun: None\n",
      "       ineqlin:  marginals: None\n",
      "  residual: None\n",
      "         lower:  marginals: None\n",
      "  residual: None\n",
      "       message: \"The problem is infeasible. (HiGHS Status 8: model_status is Infeasible; primal_status is b'At lower/fixed bound')\"\n",
      "           nit: 0\n",
      "         slack: None\n",
      "        status: 2\n",
      "       success: False\n",
      "         upper:  marginals: None\n",
      "  residual: None\n",
      "             x: None\n",
      "           con: None\n",
      " crossover_nit: 0\n",
      "         eqlin:  marginals: None\n",
      "  residual: None\n",
      "           fun: None\n",
      "       ineqlin:  marginals: None\n",
      "  residual: None\n",
      "         lower:  marginals: None\n",
      "  residual: None\n",
      "       message: \"The problem is infeasible. (HiGHS Status 8: model_status is Infeasible; primal_status is b'At lower/fixed bound')\"\n",
      "           nit: 0\n",
      "         slack: None\n",
      "        status: 2\n",
      "       success: False\n",
      "         upper:  marginals: None\n",
      "  residual: None\n",
      "             x: None\n",
      "           con: None\n",
      " crossover_nit: 0\n",
      "         eqlin:  marginals: None\n",
      "  residual: None\n",
      "           fun: None\n",
      "       ineqlin:  marginals: None\n",
      "  residual: None\n",
      "         lower:  marginals: None\n",
      "  residual: None\n",
      "       message: \"The problem is infeasible. (HiGHS Status 8: model_status is Infeasible; primal_status is b'At lower/fixed bound')\"\n",
      "           nit: 0\n",
      "         slack: None\n",
      "        status: 2\n",
      "       success: False\n",
      "         upper:  marginals: None\n",
      "  residual: None\n",
      "             x: None\n",
      "[{0.001: None}, {0.002: None}, {0.003: None}, {0.004: None}, {0.005: None}, {0.006: 2019.0763977806232}, {0.007: 2066.074263764405}, {0.008: 2112.433811802233}, {0.009000000000000001: 2155.196172248804}, {0.010000000000000002: 2190.196078431373}, {0.011000000000000003: 2222.9411764705883}, {0.012000000000000004: 2255.686274509804}, {0.013000000000000005: 2288.43137254902}, {0.014000000000000005: 2321.1764705882356}, {0.015000000000000006: 2353.921568627451}, {0.016000000000000007: 2386.666666666667}, {0.017000000000000008: 2419.411764705883}, {0.01800000000000001: 2452.1568627450984}, {0.01900000000000001: 2484.9019607843143}, {0.02000000000000001: 2517.6470588235297}, {0.02100000000000001: 2550.392156862745}, {0.022000000000000013: 2583.1372549019616}, {0.023000000000000013: 2615.8823529411775}, {0.024000000000000014: 2648.6274509803934}, {0.025000000000000015: 2673.2673267326736}, {0.026000000000000016: 2673.2673267326736}, {0.027000000000000017: 2673.2673267326736}, {0.028000000000000018: 2673.2673267326736}, {0.02900000000000002: 2673.2673267326736}, {0.03000000000000002: 2673.2673267326736}, {0.03100000000000002: 2673.2673267326736}, {0.03200000000000002: 2673.2673267326736}, {0.03300000000000002: 2673.2673267326736}, {0.03400000000000002: 2673.2673267326736}, {0.035000000000000024: 2673.2673267326736}, {0.036000000000000025: 2673.2673267326736}, {0.037000000000000026: 2673.2673267326736}, {0.03800000000000003: 2673.2673267326736}, {0.03900000000000003: 2673.2673267326736}, {0.04000000000000003: 2673.2673267326736}, {0.04100000000000003: 2673.2673267326736}, {0.04200000000000003: 2673.2673267326736}, {0.04300000000000003: 2673.2673267326736}, {0.04400000000000003: 2673.2673267326736}, {0.04500000000000003: 2673.2673267326736}, {0.046000000000000034: 2673.2673267326736}, {0.047000000000000035: 2673.2673267326736}, {0.048000000000000036: 2673.2673267326736}, {0.04900000000000004: 2673.2673267326736}, {0.05000000000000004: 2673.2673267326736}]\n"
     ]
    }
   ],
   "source": [
    "import numpy as np\n",
    "from scipy.optimize import linprog\n",
    "\n",
    "\n",
    "reslist = []\n",
    "M = 10000\n",
    "a = 0.001\n",
    "\n",
    "while a <= 0.051:\n",
    "    c = np.array([-0.05, -0.27, -0.19, -0.185, -0.185])\n",
    "    Aeq = np.array([[1, 1.01, 1.02, 1.045, 1.065]])\n",
    "    beq = np.array([M])\n",
    "    A = np.array([[1, 0, 0, 0, 0], [0, 0.025/M, 0, 0, 0], [0, 0, 0.015/M, 0, 0], [0, 0, 0, 0.055/M, 0], [0, 0, 0, 0, 0.026/M]])\n",
    "    b = np.array([a, a, a, a, a])\n",
    "    x0, x1, x2, x3, x4 = (0, None), (0, None), (0, None), (0, None), (0, None)\n",
    "    res = linprog(c, A, b, Aeq, beq, bounds = (x0, x1, x2, x3, x4))\n",
    "    if res.fun is None :\n",
    "        reslist.append({a : None})\n",
    "        print(res)\n",
    "    else :    \n",
    "        reslist.append({a : abs(res.fun)})\n",
    "    a = a + 0.001\n",
    "\n",
    "print(reslist)"
   ],
   "metadata": {
    "collapsed": false,
    "ExecuteTime": {
     "end_time": "2024-01-09T08:58:03.774268100Z",
     "start_time": "2024-01-09T08:58:03.363013700Z"
    }
   },
   "id": "c0950f0e22de22a4",
   "execution_count": 1
  },
  {
   "cell_type": "code",
   "outputs": [],
   "source": [
    "import pandas as pd\n",
    "df = pd.DataFrame(reslist)\n",
    "\n",
    "df.to_excel('C:\\\\Users\\\\24562\\\\Desktop\\\\美赛建模\\\\Learn\\\\models\\\\线性规划\\\\code\\\\ExampleSolution.xlsx', index = False)"
   ],
   "metadata": {
    "collapsed": false,
    "ExecuteTime": {
     "end_time": "2024-01-09T09:02:00.666588800Z",
     "start_time": "2024-01-09T09:02:00.603628300Z"
    }
   },
   "id": "343613ef4968fc01",
   "execution_count": 7
  },
  {
   "cell_type": "code",
   "outputs": [],
   "source": [],
   "metadata": {
    "collapsed": false,
    "ExecuteTime": {
     "end_time": "2024-01-09T08:58:04.218735300Z",
     "start_time": "2024-01-09T08:58:04.203316500Z"
    }
   },
   "id": "68d3da66a9887069",
   "execution_count": 2
  }
 ],
 "metadata": {
  "kernelspec": {
   "display_name": "Python 3 (ipykernel)",
   "language": "python",
   "name": "python3"
  },
  "language_info": {
   "codemirror_mode": {
    "name": "ipython",
    "version": 3
   },
   "file_extension": ".py",
   "mimetype": "text/x-python",
   "name": "python",
   "nbconvert_exporter": "python",
   "pygments_lexer": "ipython3",
   "version": "3.9.13"
  }
 },
 "nbformat": 4,
 "nbformat_minor": 5
}
