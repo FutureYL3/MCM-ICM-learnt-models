{
 "cells": [
  {
   "cell_type": "code",
   "execution_count": 1,
   "id": "initial_id",
   "metadata": {
    "collapsed": true,
    "ExecuteTime": {
     "end_time": "2024-01-12T15:01:03.952030300Z",
     "start_time": "2024-01-12T15:01:01.014418600Z"
    }
   },
   "outputs": [
    {
     "name": "stdout",
     "output_type": "stream",
     "text": [
      "[[ 3  8  6  9  5]\n",
      " [ 7  5 12  9 19]\n",
      " [ 7 10  9 10  6]\n",
      " [ 4  6  2 12  8]\n",
      " [ 9  9  6 15 11]]\n",
      "[0 1 2 3 4]\n",
      "[0 3 4 2 1]\n",
      "29\n"
     ]
    }
   ],
   "source": [
    "import numpy as np\n",
    "from scipy.optimize import linear_sum_assignment\n",
    "c = [[3,8,6,9,5], [7,5,12,9,19], [7,10,9,10,6], [4,6,2,12,8], [9,9,6,15,11]]\n",
    "c = np.array(c)\n",
    "print(c)\n",
    "name_id, work_id = linear_sum_assignment(c)\n",
    "print(name_id)\n",
    "print(work_id)\n",
    "print(c[name_id,work_id ].sum())"
   ]
  },
  {
   "cell_type": "code",
   "outputs": [],
   "source": [],
   "metadata": {
    "collapsed": false
   },
   "id": "2e4ddb4675eff024"
  }
 ],
 "metadata": {
  "kernelspec": {
   "display_name": "Python 3",
   "language": "python",
   "name": "python3"
  },
  "language_info": {
   "codemirror_mode": {
    "name": "ipython",
    "version": 2
   },
   "file_extension": ".py",
   "mimetype": "text/x-python",
   "name": "python",
   "nbconvert_exporter": "python",
   "pygments_lexer": "ipython2",
   "version": "2.7.6"
  }
 },
 "nbformat": 4,
 "nbformat_minor": 5
}
