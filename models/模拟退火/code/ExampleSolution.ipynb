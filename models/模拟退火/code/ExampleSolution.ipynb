{
 "cells": [
  {
   "cell_type": "code",
   "execution_count": 41,
   "id": "initial_id",
   "metadata": {
    "collapsed": true,
    "ExecuteTime": {
     "end_time": "2024-01-29T15:47:06.686672400Z",
     "start_time": "2024-01-29T15:43:11.546019200Z"
    }
   },
   "outputs": [
    {
     "name": "stdout",
     "output_type": "stream",
     "text": [
      "[0, 19, 3, 5, 18, 23, 9, 26, 32, 4, 25, 8, 29, 13, 28, 17, 33, 16, 12, 6, 7, 21, 10, 31, 30, 11, 20, 27, 2, 24, 22, 14, 15, 1, 0]\n",
      "13911.672436931934\n"
     ]
    }
   ],
   "source": [
    "from geopy.distance import geodesic\n",
    "\n",
    "import numpy as np\n",
    "import pandas as pd\n",
    "import random\n",
    "import math\n",
    "\n",
    "excel_file_path = \"C:\\\\Users\\\\24562\\\\Desktop\\\\美赛建模\\\\Learn\\\\models\\\\模拟退火\\\\code\\\\citys.xlsx\"\n",
    "df = pd.read_excel(excel_file_path)\n",
    "\n",
    "# print(df)\n",
    "\n",
    "axis = df.iloc[0:34, 1:3].values.tolist()\n",
    "# print(axis)\n",
    "\n",
    "\n",
    "# print(x0)\n",
    "distance = np.zeros((34,34))\n",
    "# print(distance)\n",
    "\n",
    "for i in range(34):\n",
    "    for j in range(34):\n",
    "        point1 = (axis[i][1],axis[i][0])\n",
    "        point2 = (axis[j][1],axis[j][0])\n",
    "        distance[i,j] = geodesic(point1, point2).kilometers\n",
    "        \n",
    "# print(distance)\n",
    "\n",
    "def func(x):\n",
    "    return sum([distance[x[i],x[i+1]] for i in range(34)])\n",
    "\n",
    "x0 = [i for i in range(0, 35)]\n",
    "x0[34] = 0\n",
    "T = 100\n",
    "alpha = 0.99\n",
    "success = 0\n",
    "refuse = 0\n",
    "accept = 0\n",
    "while T >= 1.0e-30:\n",
    "    for j in range(1000):\n",
    "        u,v = random.randint(1,33), random.randint(1,33)\n",
    "        while u >= v:\n",
    "            u,v = random.randint(1,33), random.randint(1,33)\n",
    "        \n",
    "        selected = x0[u:v+1]\n",
    "        selected.reverse()\n",
    "        x = x0[:u] + selected + x0[v+1:]\n",
    "        \n",
    "        delta = func(x) - func(x0)\n",
    "        \n",
    "        if delta < 0:\n",
    "            x0 = x\n",
    "            success += 1\n",
    "        else:\n",
    "            probility = math.exp(-delta / T)\n",
    "            if probility >= random.uniform(0, 1):\n",
    "                x0 = x\n",
    "                accept += 1\n",
    "            else:\n",
    "                refuse += 1\n",
    "    T *= alpha\n",
    "    \n",
    "print(x0)\n",
    "print(func(x0))"
   ]
  },
  {
   "cell_type": "code",
   "outputs": [
    {
     "name": "stdout",
     "output_type": "stream",
     "text": [
      "success = 4046\n",
      "refuse = 7323919\n",
      "accept = 4035\n"
     ]
    }
   ],
   "source": [
    "print(\"success =\",success)\n",
    "print(\"refuse =\",refuse)\n",
    "print(\"accept =\",accept)"
   ],
   "metadata": {
    "collapsed": false,
    "ExecuteTime": {
     "end_time": "2024-01-29T15:55:14.434975Z",
     "start_time": "2024-01-29T15:55:14.414976Z"
    }
   },
   "id": "f9cbda4fe85146ba",
   "execution_count": 42
  },
  {
   "cell_type": "code",
   "outputs": [],
   "source": [],
   "metadata": {
    "collapsed": false
   },
   "id": "66779c4838fbf293"
  }
 ],
 "metadata": {
  "kernelspec": {
   "display_name": "Python 3",
   "language": "python",
   "name": "python3"
  },
  "language_info": {
   "codemirror_mode": {
    "name": "ipython",
    "version": 2
   },
   "file_extension": ".py",
   "mimetype": "text/x-python",
   "name": "python",
   "nbconvert_exporter": "python",
   "pygments_lexer": "ipython2",
   "version": "2.7.6"
  }
 },
 "nbformat": 4,
 "nbformat_minor": 5
}
