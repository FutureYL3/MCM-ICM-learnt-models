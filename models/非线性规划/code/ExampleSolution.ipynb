{
 "cells": [
  {
   "cell_type": "code",
   "execution_count": 3,
   "id": "initial_id",
   "metadata": {
    "collapsed": true,
    "ExecuteTime": {
     "end_time": "2024-01-11T07:15:30.199844900Z",
     "start_time": "2024-01-11T07:15:30.179842900Z"
    }
   },
   "outputs": [
    {
     "name": "stdout",
     "output_type": "stream",
     "text": [
      "           con: array([0., 0., 0., 0., 0., 0.])\n",
      " crossover_nit: 0\n",
      "         eqlin:  marginals: array([3.75832409, 3.75832409, 5.85768726, 4.06970515, 5.85234996,\n",
      "       7.11512474])\n",
      "  residual: array([0., 0., 0., 0., 0., 0.])\n",
      "           fun: 136.22751988318154\n",
      "       ineqlin:  marginals: array([-0.        , -1.81182388])\n",
      "  residual: array([4., 0.])\n",
      "         lower:  marginals: array([0.        , 0.        , 0.        , 0.        , 0.        ,\n",
      "       0.        , 3.85220653, 7.25268453, 0.        , 1.99211873,\n",
      "       0.        , 0.        ])\n",
      "  residual: array([ 3.,  5., -0.,  7., -0.,  1.,  0.,  0.,  4.,  0.,  6., 10.])\n",
      "       message: 'Optimization terminated successfully. (HiGHS Status 7: Optimal)'\n",
      "           nit: 1\n",
      "         slack: array([4., 0.])\n",
      "        status: 0\n",
      "       success: True\n",
      "         upper:  marginals: array([ 0.        ,  0.        ,  0.        ,  0.        ,  0.        ,\n",
      "        0.        ,  0.        ,  0.        , -1.34169992,  0.        ,\n",
      "       -2.92249209,  0.        ])\n",
      "  residual: array([ 0.,  0.,  4.,  0.,  6., 10.,  3.,  5.,  0.,  7.,  0.,  1.])\n",
      "             x: array([ 3.,  5., -0.,  7., -0.,  1.,  0.,  0.,  4.,  0.,  6., 10.])\n"
     ]
    }
   ],
   "source": [
    "# 第一小题\n",
    "import numpy as np\n",
    "from scipy.optimize import linprog\n",
    "\n",
    "a = [1.25, 8.75, 0.5, 5.75, 3, 7.25]\n",
    "b = [1.25, 0.75, 4.75, 5, 6.5, 7.75]\n",
    "d = [3, 5, 4, 7, 6, 11]\n",
    "x1 = 5\n",
    "y1 = 1\n",
    "x2 = 2\n",
    "y2 = 7\n",
    "distance1 = []\n",
    "distance2 = []\n",
    "\n",
    "for i in range(len(a)):\n",
    "    distance1.append(np.sqrt((a[i] - x1)**2 + (b[i] - y1)**2))\n",
    "    \n",
    "for i in range(len(a)):\n",
    "    distance2.append(np.sqrt((a[i] - x2)**2 + (b[i] - y2)**2))    \n",
    "    \n",
    "# print(distance1)   \n",
    "# print(distance2)\n",
    "temp = []\n",
    "for i in range(len(a)):\n",
    "    temp.append(distance1[i])\n",
    "\n",
    "for i in range(len(a)):\n",
    "    temp.append(distance2[i])\n",
    "\n",
    "c = np.array(temp)    \n",
    "\n",
    "A = np.array([[1,1,1,1,1,1,0,0,0,0,0,0], [0,0,0,0,0,0,1,1,1,1,1,1]])\n",
    "b = np.array([20,20])\n",
    "\n",
    "Aeq = np.array([[1,0,0,0,0,0,1,0,0,0,0,0], [0,1,0,0,0,0,0,1,0,0,0,0], [0,0,1,0,0,0,0,0,1,0,0,0], [0,0,0,1,0,0,0,0,0,1,0,0], [0,0,0,0,1,0,0,0,0,0,1,0], [0,0,0,0,0,1,0,0,0,0,0,1]])\n",
    "beq = np.array(d)\n",
    "\n",
    "x11,x12,x13,x14,x15,x16,x21,x22,x23,x24,x25,x26 = (0,d[0]),(0,d[1]),(0,d[2]),(0,d[3]),(0,d[4]),(0,d[5]),(0,d[0]),(0,d[1]),(0,d[2]),(0,d[3]),(0,d[4]),(0,d[5])\n",
    "\n",
    "res = linprog(c, A, b, Aeq, beq, bounds = (x11,x12,x13,x14,x15,x16,x21,x22,x23,x24,x25,x26), method = 'highs')\n",
    "\n",
    "print(res)"
   ]
  },
  {
   "cell_type": "code",
   "outputs": [
    {
     "name": "stdout",
     "output_type": "stream",
     "text": [
      "x:  [3.00000000e+00 5.00000000e+00 4.00000000e+00 7.00000000e+00\n",
      " 1.00000000e+00 4.19981997e-14 7.00738765e-15 5.19800201e-15\n",
      " 4.40749201e-14 3.52605796e-15 5.00000000e+00 1.10000000e+01\n",
      " 5.66885659e+00 4.89321410e+00 7.25000003e+00 7.75000014e+00]\n",
      "funval:  89.88515791580215\n"
     ]
    }
   ],
   "source": [
    "# 第二小题（不使用蒙特卡罗法）\n",
    "import numpy as np\n",
    "from scipy.optimize import minimize\n",
    "\n",
    "def func(args):\n",
    "    a,b = args\n",
    "    fx = lambda x: x[0]*np.sqrt((x[12]-a[0])**2+(x[13]-b[0])**2) + x[1]*np.sqrt((x[12]-a[1])**2+(x[13]-b[1])**2) + x[2]*np.sqrt((x[12]-a[2])**2+(x[13]-b[2])**2) + x[3]*np.sqrt((x[12]-a[3])**2+(x[13]-b[3])**2) + x[4]*np.sqrt((x[12]-a[4])**2+(x[13]-b[4])**2) + x[5]*np.sqrt((x[12]-a[5])**2+(x[13]-b[5])**2) + x[6]*np.sqrt((x[14]-a[0])**2+(x[15]-b[0])**2) + x[7]*np.sqrt((x[14]-a[1])**2+(x[15]-b[1])**2) + x[8]*np.sqrt((x[14]-a[2])**2+(x[15]-b[2])**2) + x[9]*np.sqrt((x[14]-a[3])**2+(x[15]-b[3])**2) + x[10]*np.sqrt((x[14]-a[4])**2+(x[15]-b[4])**2) + x[11]*np.sqrt((x[14]-a[5])**2+(x[15]-b[5])**2)\n",
    "    return fx\n",
    "     \n",
    "def constraint(args):\n",
    "    d = args\n",
    "    cons = ({'type': 'ineq', 'fun': lambda x:-(x[0]+x[1]+x[2]+x[3]+x[4]+x[5]-20)},\n",
    "            {'type': 'ineq', 'fun':lambda x:-(x[6]+x[7]+x[8]+x[9]+x[10]+x[11]-20)},\n",
    "            {'type': 'eq', 'fun':lambda x:x[0]+x[6]-d[0]},\n",
    "            {'type': 'eq', 'fun':lambda x:x[1]+x[7]-d[1]},\n",
    "            {'type': 'eq', 'fun':lambda x:x[2]+x[8]-d[2]},\n",
    "            {'type': 'eq', 'fun':lambda x:x[3]+x[9]-d[3]},\n",
    "            {'type': 'eq', 'fun':lambda x:x[4]+x[10]-d[4]},\n",
    "            {'type': 'eq', 'fun':lambda x:x[5]+x[11]-d[5]})\n",
    "    return cons\n",
    "\n",
    "a = [1.25, 8.75, 0.5, 5.75, 3, 7.25]\n",
    "b = [1.25, 0.75, 4.75, 5, 6.5, 7.75]\n",
    "d = [3, 5, 4, 7, 6, 11]\n",
    "\n",
    "args1 = [a,b]\n",
    "args2 = d\n",
    "cons = constraint(args2)\n",
    "x11,x12,x13,x14,x15,x16,x21,x22,x23,x24,x25,x26,x1,y1,x2,y2 = (0,d[0]),(0,d[1]),(0,d[2]),(0,d[3]),(0,d[4]),(0,d[5]),(0,d[0]),(0,d[1]),(0,d[2]),(0,d[3]),(0,d[4]),(0,d[5]),(-2,10),(-2,10),(-2,10),(-2,10)\n",
    "\n",
    "bnds = (x11,x12,x13,x14,x15,x16,x21,x22,x23,x24,x25,x26,x1,y1,x2,y2)\n",
    "\n",
    "x0 = [3.,  5., -0.,  7., -0.,  1.,  0.,  0.,  4.,  0.,  6., 10., 5, 1, 2, 7]\n",
    "res = minimize(func(args1), x0, method='SLSQP', constraints=cons, bounds=bnds)\n",
    "print(\"x: \",res.x)\n",
    "print(\"funval: \", res.fun)\n"
   ],
   "metadata": {
    "collapsed": false,
    "ExecuteTime": {
     "end_time": "2024-01-11T09:52:36.351407800Z",
     "start_time": "2024-01-11T09:52:36.275752600Z"
    }
   },
   "id": "e58f4e720a94271b",
   "execution_count": 12
  },
  {
   "cell_type": "code",
   "outputs": [
    {
     "name": "stdout",
     "output_type": "stream",
     "text": [
      "x= [1, 0, 1, 5, 2, 0, 2, 2, 3, 5, 4, 9, 1.8188700761129835, 0.24154113739596728, 5.414916454363774, 3.746022982801928]\n",
      "val= 74.4982963016512\n"
     ]
    }
   ],
   "source": [
    "# 蒙特卡罗法\n",
    "import numpy as np\n",
    "\n",
    "def func(x,a,b):\n",
    "    fx = x[0]*np.sqrt((x[12]-a[0])**2+(x[13]-b[0])**2) + x[1]*np.sqrt((x[12]-a[1])**2+(x[13]-b[1])**2) + x[2]*np.sqrt((x[12]-a[2])**2+(x[13]-b[2])**2) + x[3]*np.sqrt((x[12]-a[3])**2+(x[13]-b[3])**2) + x[4]*np.sqrt((x[12]-a[4])**2+(x[13]-b[4])**2) + x[5]*np.sqrt((x[12]-a[5])**2+(x[13]-b[5])**2) + x[6]*np.sqrt((x[14]-a[0])**2+(x[15]-b[0])**2) + x[7]*np.sqrt((x[14]-a[1])**2+(x[15]-b[1])**2) + x[8]*np.sqrt((x[14]-a[2])**2+(x[15]-b[2])**2) + x[9]*np.sqrt((x[14]-a[3])**2+(x[15]-b[3])**2) + x[10]*np.sqrt((x[14]-a[4])**2+(x[15]-b[4])**2) + x[11]*np.sqrt((x[14]-a[5])**2+(x[15]-b[5])**2)\n",
    "    return fx\n",
    "\n",
    "def ineqCons1(x):\n",
    "    return -(x[0]+x[1]+x[2]+x[3]+x[4]+x[5]-20)\n",
    "\n",
    "def ineqCons2(x):\n",
    "    return -(x[6]+x[7]+x[8]+x[9]+x[10]+x[11]-20)\n",
    "\n",
    "def eqCons1(x, d):\n",
    "    return x[0]+x[6]-d[0]\n",
    "\n",
    "def eqCons2(x,d):\n",
    "    return x[1]+x[7]-d[1]\n",
    "\n",
    "def eqCons3(x,d):\n",
    "    return x[2]+x[8]-d[2]\n",
    "\n",
    "def eqCons4(x,d):\n",
    "    return x[3]+x[9]-d[3]\n",
    "\n",
    "def eqCons5(x,d):\n",
    "    return x[4]+x[10]-d[4]\n",
    "\n",
    "def eqCons6(x,d):\n",
    "    return x[5]+x[11]-d[5]\n",
    "\n",
    "a = [1.25, 8.75, 0.5, 5.75, 3, 7.25]\n",
    "b = [1.25, 0.75, 4.75, 5, 6.5, 7.75]\n",
    "d = [3, 5, 4, 7, 6, 11]\n",
    "val = 10000\n",
    "x=[]\n",
    "\n",
    "for i in range(0, 1000000):\n",
    "    x=[np.random.randint(0, d[0]), np.random.randint(0, d[1]), np.random.randint(0, d[2]), np.random.randint(0, d[3]), np.random.randint(0, d[4]), np.random.randint(0, d[5]), np.random.randint(0, d[0]), np.random.randint(0, d[1]), np.random.randint(0, d[2]), np.random.randint(0, d[3]), np.random.randint(0, d[4]), np.random.randint(0, d[5]), np.random.uniform(-1,10), np.random.uniform(-1,10), np.random.uniform(-1,10), np.random.uniform(-1,10)]\n",
    "    if ineqCons1(x) >= 0 and ineqCons2(x) >= 0 and abs(eqCons1(x,d)) <= 2 and abs(eqCons2(x,d)) <= 2 and abs(eqCons3(x,d)) <= 2 and abs(eqCons4(x,d)) <= 2 and abs(eqCons5(x,d)) <= 2 and abs(eqCons6(x,d)) <= 2 :\n",
    "        funval = func(x,a,b)\n",
    "        if funval < val:\n",
    "            val = funval\n",
    "\n",
    "print(\"x=\", x)\n",
    "print(\"val=\", val)"
   ],
   "metadata": {
    "collapsed": false,
    "ExecuteTime": {
     "end_time": "2024-01-11T10:43:50.003355400Z",
     "start_time": "2024-01-11T10:43:28.387786200Z"
    }
   },
   "id": "b05d23f833bfcbed",
   "execution_count": 25
  },
  {
   "cell_type": "code",
   "outputs": [
    {
     "name": "stdout",
     "output_type": "stream",
     "text": [
      "x:  [3.00000000e+00 2.14438820e-12 4.00000000e+00 7.00000000e+00\n",
      " 6.00000000e+00 2.25263042e-12 2.07999984e-12 5.00000000e+00\n",
      " 2.87706243e-12 1.92323103e-11 8.28772662e-14 1.10000000e+01\n",
      " 3.25535544e+00 5.65216403e+00 7.25000013e+00 7.75000000e+00]\n",
      "funval:  85.2660428720623\n"
     ]
    }
   ],
   "source": [
    "# 第二小题（使用蒙特卡罗法）\n",
    "import numpy as np\n",
    "from scipy.optimize import minimize\n",
    "\n",
    "def func(args):\n",
    "    a,b = args\n",
    "    fx = lambda x: x[0]*np.sqrt((x[12]-a[0])**2+(x[13]-b[0])**2) + x[1]*np.sqrt((x[12]-a[1])**2+(x[13]-b[1])**2) + x[2]*np.sqrt((x[12]-a[2])**2+(x[13]-b[2])**2) + x[3]*np.sqrt((x[12]-a[3])**2+(x[13]-b[3])**2) + x[4]*np.sqrt((x[12]-a[4])**2+(x[13]-b[4])**2) + x[5]*np.sqrt((x[12]-a[5])**2+(x[13]-b[5])**2) + x[6]*np.sqrt((x[14]-a[0])**2+(x[15]-b[0])**2) + x[7]*np.sqrt((x[14]-a[1])**2+(x[15]-b[1])**2) + x[8]*np.sqrt((x[14]-a[2])**2+(x[15]-b[2])**2) + x[9]*np.sqrt((x[14]-a[3])**2+(x[15]-b[3])**2) + x[10]*np.sqrt((x[14]-a[4])**2+(x[15]-b[4])**2) + x[11]*np.sqrt((x[14]-a[5])**2+(x[15]-b[5])**2)\n",
    "    return fx\n",
    "     \n",
    "def constraint(args):\n",
    "    d = args\n",
    "    cons = ({'type': 'ineq', 'fun': lambda x:-(x[0]+x[1]+x[2]+x[3]+x[4]+x[5]-20)},\n",
    "            {'type': 'ineq', 'fun':lambda x:-(x[6]+x[7]+x[8]+x[9]+x[10]+x[11]-20)},\n",
    "            {'type': 'eq', 'fun':lambda x:x[0]+x[6]-d[0]},\n",
    "            {'type': 'eq', 'fun':lambda x:x[1]+x[7]-d[1]},\n",
    "            {'type': 'eq', 'fun':lambda x:x[2]+x[8]-d[2]},\n",
    "            {'type': 'eq', 'fun':lambda x:x[3]+x[9]-d[3]},\n",
    "            {'type': 'eq', 'fun':lambda x:x[4]+x[10]-d[4]},\n",
    "            {'type': 'eq', 'fun':lambda x:x[5]+x[11]-d[5]})\n",
    "    return cons\n",
    "\n",
    "\n",
    "a = [1.25, 8.75, 0.5, 5.75, 3, 7.25]\n",
    "b = [1.25, 0.75, 4.75, 5, 6.5, 7.75]\n",
    "d = [3, 5, 4, 7, 6, 11]\n",
    "\n",
    "args1 = [a,b]\n",
    "args2 = d\n",
    "cons = constraint(args2)\n",
    "x11,x12,x13,x14,x15,x16,x21,x22,x23,x24,x25,x26,x1,y1,x2,y2 = (0,d[0]),(0,d[1]),(0,d[2]),(0,d[3]),(0,d[4]),(0,d[5]),(0,d[0]),(0,d[1]),(0,d[2]),(0,d[3]),(0,d[4]),(0,d[5]),(-2,10),(-2,10),(-2,10),(-2,10)\n",
    "\n",
    "bnds = (x11,x12,x13,x14,x15,x16,x21,x22,x23,x24,x25,x26,x1,y1,x2,y2)\n",
    "\n",
    "x0 = [1, 0, 1, 5, 2, 0, 2, 2, 3, 5, 4, 9, 1.8188700761129835, 0.24154113739596728, 5.414916454363774, 3.746022982801928]\n",
    "res = minimize(func(args1), x0, method='SLSQP', constraints=cons, bounds=bnds)\n",
    "print(\"x: \",res.x)\n",
    "print(\"funval: \", res.fun)"
   ],
   "metadata": {
    "collapsed": false,
    "ExecuteTime": {
     "end_time": "2024-01-11T13:09:59.315138100Z",
     "start_time": "2024-01-11T13:09:58.689619500Z"
    }
   },
   "id": "c2c47b6489c6e8f3",
   "execution_count": 1
  },
  {
   "cell_type": "code",
   "outputs": [],
   "source": [],
   "metadata": {
    "collapsed": false
   },
   "id": "e27a7341622d3159"
  }
 ],
 "metadata": {
  "kernelspec": {
   "display_name": "Python 3",
   "language": "python",
   "name": "python3"
  },
  "language_info": {
   "codemirror_mode": {
    "name": "ipython",
    "version": 2
   },
   "file_extension": ".py",
   "mimetype": "text/x-python",
   "name": "python",
   "nbconvert_exporter": "python",
   "pygments_lexer": "ipython2",
   "version": "2.7.6"
  }
 },
 "nbformat": 4,
 "nbformat_minor": 5
}
